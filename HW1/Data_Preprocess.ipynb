{
 "cells": [
  {
   "cell_type": "code",
   "execution_count": 1,
   "metadata": {},
   "outputs": [],
   "source": [
    "import pandas as pd\n",
    "import numpy as np\n",
    "import os\n",
    "import random"
   ]
  },
  {
   "cell_type": "code",
   "execution_count": 2,
   "metadata": {},
   "outputs": [],
   "source": [
    "import matplotlib.pyplot as plt\n",
    "%matplotlib inline"
   ]
  },
  {
   "cell_type": "code",
   "execution_count": 3,
   "metadata": {},
   "outputs": [
    {
     "data": {
      "text/plain": [
       "'0.4.1'"
      ]
     },
     "execution_count": 3,
     "metadata": {},
     "output_type": "execute_result"
    }
   ],
   "source": [
    "import torch\n",
    "import numpy as np\n",
    "torch.__version__"
   ]
  },
  {
   "cell_type": "markdown",
   "metadata": {},
   "source": [
    "---\n",
    "### Data Loading"
   ]
  },
  {
   "cell_type": "code",
   "execution_count": 15,
   "metadata": {},
   "outputs": [],
   "source": [
    "train_dir = 'aclImdb/train'\n",
    "test_dir = 'aclImdb/test'"
   ]
  },
  {
   "cell_type": "code",
   "execution_count": 16,
   "metadata": {},
   "outputs": [],
   "source": [
    "## Load the each text into texts list\n",
    "## corresponding label will be in labels list. \n",
    "def Load_Data(path):\n",
    "    labels = []\n",
    "    texts = []\n",
    "    for c in ['neg', 'pos']:\n",
    "        dir_name = os.path.join(train_dir, c)\n",
    "        for fname in os.listdir(dir_name):\n",
    "            if '.txt' in fname :\n",
    "                f = open(os.path.join(dir_name, fname))\n",
    "                texts.append(f.read())\n",
    "                f.close()\n",
    "            if c == 'neg':\n",
    "                labels.append(0)\n",
    "            else:\n",
    "                labels.append(1)\n",
    "    return texts,labels"
   ]
  },
  {
   "cell_type": "code",
   "execution_count": 17,
   "metadata": {},
   "outputs": [],
   "source": [
    "test_data, test_targets = Load_Data(test_dir)\n",
    "data, targets = Load_Data(test_dir)"
   ]
  },
  {
   "cell_type": "code",
   "execution_count": 18,
   "metadata": {},
   "outputs": [],
   "source": [
    "## We have to shuffle the list to get a mix of pos and neg in the \n",
    "## train and val data set\n",
    "index = np.arange(25000)\n",
    "np.random.shuffle(index)\n",
    "data = list( data[i] for i in index )\n",
    "targets = list( targets[i] for i in index )"
   ]
  },
  {
   "cell_type": "code",
   "execution_count": 19,
   "metadata": {},
   "outputs": [
    {
     "name": "stdout",
     "output_type": "stream",
     "text": [
      "Train dataset size is 20000\n",
      "Val dataset size is 5000\n",
      "Test dataset size is 25000\n"
     ]
    }
   ],
   "source": [
    "# Split train data into actual train and validation sets\n",
    "\n",
    "train_split = 20000\n",
    "train_data = data[:train_split]\n",
    "train_targets = targets[:train_split]\n",
    "\n",
    "val_data = data[train_split:]\n",
    "val_targets = targets[train_split:]\n",
    "\n",
    "print (\"Train dataset size is {}\".format(len(train_data)))\n",
    "print (\"Val dataset size is {}\".format(len(val_data)))\n",
    "print (\"Test dataset size is {}\".format(len(test_data)))"
   ]
  },
  {
   "cell_type": "code",
   "execution_count": 52,
   "metadata": {},
   "outputs": [],
   "source": [
    "# Save the targets for this shuffled dataset\n",
    "\n",
    "pd.DataFrame(train_targets).to_csv(\"train_targets.csv\",index=False)\n",
    "pd.DataFrame(val_targets).to_csv(\"val_targets.csv\",index=False)\n",
    "pd.DataFrame(test_targets).to_csv(\"test_targets.csv\",index=False)"
   ]
  },
  {
   "cell_type": "code",
   "execution_count": 20,
   "metadata": {},
   "outputs": [],
   "source": [
    "# Let's write the tokenization function \n",
    "\n",
    "import spacy\n",
    "import string\n",
    "\n",
    "# Load English tokenizer, tagger, parser, NER and word vectors\n",
    "tokenizer = spacy.load('en_core_web_sm')\n",
    "punctuations = string.punctuation\n",
    "\n",
    "# lowercase and remove punctuation\n",
    "def tokenize(sent):\n",
    "  tokens = tokenizer(sent)\n",
    "  return [token.text.lower() for token in tokens if (token.text not in punctuations)]\n",
    "\n"
   ]
  },
  {
   "cell_type": "code",
   "execution_count": 51,
   "metadata": {},
   "outputs": [
    {
     "name": "stdout",
     "output_type": "stream",
     "text": [
      "Tokenizing val data\n",
      "Tokenizing test data\n",
      "Tokenizing train data\n",
      "1\n"
     ]
    }
   ],
   "source": [
    "# This is the code cell that tokenizes train/val/test datasets\n",
    "# However it takes about 15-20 minutes to run it\n",
    "# For convinience we have provided the preprocessed datasets\n",
    "# Please see the next code cell\n",
    "import pickle as pkl\n",
    "\n",
    "# functions to generate N-grams\n",
    "def generate_ngrams(token_list, n):\n",
    "    grams=[]\n",
    "    temp = zip(*[token_list[i:] for i in range(n)])\n",
    "    for i in temp:\n",
    "        grams.append(' '.join(i))\n",
    "    return grams\n",
    "\n",
    "def tokenize_dataset(dataset,n):\n",
    "    token_dataset = []\n",
    "    # we are keeping track of all tokens in dataset \n",
    "    # in order to create vocabulary later\n",
    "    all_tokens = []\n",
    "    \n",
    "    for sample in dataset:\n",
    "        tokens = tokenize(sample)\n",
    "        tokens = generate_ngrams(tokens, n)\n",
    "        token_dataset.append(tokens)\n",
    "        all_tokens += tokens\n",
    "\n",
    "    return token_dataset, all_tokens\n",
    "\n",
    "for i in range(1,5):\n",
    "    N_grams=i\n",
    "\n",
    "    # val set tokens\n",
    "    print (\"Tokenizing val data\")\n",
    "    val_data_tokens, _ = tokenize_dataset(val_data,N_grams)\n",
    "    pkl.dump(val_data_tokens, open(\"val_data_tokens_\" + str(N_grams) +\".p\", \"wb\"))\n",
    "\n",
    "    # test set tokens\n",
    "    print (\"Tokenizing test data\")\n",
    "    test_data_tokens, _ = tokenize_dataset(test_data,N_grams)\n",
    "    pkl.dump(test_data_tokens, open(\"test_data_tokens_\" + str(N_grams) +\".p\", \"wb\"))\n",
    "\n",
    "    # train set tokens\n",
    "    print (\"Tokenizing train data\")\n",
    "    train_data_tokens, all_train_tokens = tokenize_dataset(train_data,N_grams)\n",
    "    pkl.dump(train_data_tokens, open(\"train_data_tokens_\" + str(N_grams) +\".p\", \"wb\"))\n",
    "    pkl.dump(all_train_tokens, open(\"all_train_tokens_\" + str(N_grams) +\".p\", \"wb\"))\n",
    "    print(i)"
   ]
  },
  {
   "cell_type": "code",
   "execution_count": 6,
   "metadata": {},
   "outputs": [
    {
     "name": "stdout",
     "output_type": "stream",
     "text": [
      "Train dataset size is 20000\n",
      "Val dataset size is 5000\n",
      "Test dataset size is 25000\n",
      "Total number of tokens in train dataset is 4827321\n"
     ]
    }
   ],
   "source": [
    "# Then, load preprocessed train, val and test datasets\n",
    "import pickle as pkl\n",
    "\n",
    "train_data_tokens = pkl.load(open(\"train_data_tokens_1.p\", \"rb\"))\n",
    "all_train_tokens = pkl.load(open(\"all_train_tokens_1.p\", \"rb\"))\n",
    "\n",
    "val_data_tokens = pkl.load(open(\"val_data_tokens_1.p\", \"rb\"))\n",
    "test_data_tokens = pkl.load(open(\"test_data_tokens_1.p\", \"rb\"))\n",
    "\n",
    "\n",
    "#train_data_tokens = pkl.load(open(\"train_data_tokens_2.p\", \"rb\"))\n",
    "#all_train_tokens = pkl.load(open(\"all_train_tokens_2.p\", \"rb\"))\n",
    "\n",
    "#val_data_tokens = pkl.load(open(\"val_data_tokens_2.p\", \"rb\"))\n",
    "#test_data_tokens = pkl.load(open(\"test_data_tokens_2.p\", \"rb\"))\n",
    "\n",
    "#train_data_tokens = pkl.load(open(\"train_data_tokens_3.p\", \"rb\"))\n",
    "#all_train_tokens = pkl.load(open(\"all_train_tokens_3.p\", \"rb\"))\n",
    "\n",
    "#val_data_tokens = pkl.load(open(\"val_data_tokens_3.p\", \"rb\"))\n",
    "#test_data_tokens = pkl.load(open(\"test_data_tokens_3.p\", \"rb\"))\n",
    "\n",
    "#train_data_tokens = pkl.load(open(\"train_data_tokens_4.p\", \"rb\"))\n",
    "#all_train_tokens = pkl.load(open(\"all_train_tokens_4.p\", \"rb\"))\n",
    "\n",
    "#val_data_tokens = pkl.load(open(\"val_data_tokens_4.p\", \"rb\"))\n",
    "#test_data_tokens = pkl.load(open(\"test_data_tokens_4.p\", \"rb\"))\n",
    "\n",
    "\n",
    "\n",
    "# double checking\n",
    "print (\"Train dataset size is {}\".format(len(train_data_tokens)))\n",
    "print (\"Val dataset size is {}\".format(len(val_data_tokens)))\n",
    "print (\"Test dataset size is {}\".format(len(test_data_tokens)))\n",
    "\n",
    "print (\"Total number of tokens in train dataset is {}\".format(len(all_train_tokens)))"
   ]
  },
  {
   "cell_type": "code",
   "execution_count": 7,
   "metadata": {},
   "outputs": [],
   "source": [
    "from collections import Counter\n",
    "\n",
    "max_vocab_size = 10000\n",
    "# save index 0 for unk and 1 for pad\n",
    "PAD_IDX = 0\n",
    "UNK_IDX = 1\n",
    "\n",
    "def build_vocab(all_tokens):\n",
    "    # Returns:\n",
    "    # id2token: list of tokens, where id2token[i] returns token that corresponds to token i\n",
    "    # token2id: dictionary where keys represent tokens and corresponding values represent indices\n",
    "    token_counter = Counter(all_tokens)\n",
    "    vocab, count = zip(*token_counter.most_common(max_vocab_size))\n",
    "    id2token = list(vocab)\n",
    "    token2id = dict(zip(vocab, range(2,2+len(vocab)))) \n",
    "    id2token = ['<pad>', '<unk>'] + id2token\n",
    "    token2id['<pad>'] = PAD_IDX \n",
    "    token2id['<unk>'] = UNK_IDX\n",
    "    return token2id, id2token\n",
    "\n",
    "token2id, id2token = build_vocab(all_train_tokens)"
   ]
  },
  {
   "cell_type": "code",
   "execution_count": 8,
   "metadata": {},
   "outputs": [
    {
     "name": "stdout",
     "output_type": "stream",
     "text": [
      "Token id 7014 ; token bleed\n",
      "Token bleed; token id 7014\n"
     ]
    }
   ],
   "source": [
    "random_token_id = random.randint(0, len(id2token)-1)\n",
    "random_token = id2token[random_token_id]\n",
    "\n",
    "print (\"Token id {} ; token {}\".format(random_token_id, id2token[random_token_id]))\n",
    "print (\"Token {}; token id {}\".format(random_token, token2id[random_token]))"
   ]
  },
  {
   "cell_type": "code",
   "execution_count": 9,
   "metadata": {},
   "outputs": [
    {
     "name": "stdout",
     "output_type": "stream",
     "text": [
      "Train dataset size is 20000\n",
      "Val dataset size is 5000\n",
      "Test dataset size is 25000\n"
     ]
    }
   ],
   "source": [
    "def token2index_dataset(tokens_data):\n",
    "    indices_data = []\n",
    "    for tokens in tokens_data:\n",
    "        index_list = [token2id[token] if token in token2id else UNK_IDX for token in tokens]\n",
    "        indices_data.append(index_list)\n",
    "    return indices_data\n",
    "\n",
    "train_data_indices = token2index_dataset(train_data_tokens)\n",
    "val_data_indices = token2index_dataset(val_data_tokens)\n",
    "test_data_indices = token2index_dataset(test_data_tokens)\n",
    "\n",
    "# double checking\n",
    "print (\"Train dataset size is {}\".format(len(train_data_indices)))\n",
    "print (\"Val dataset size is {}\".format(len(val_data_indices)))\n",
    "print (\"Test dataset size is {}\".format(len(test_data_indices)))"
   ]
  },
  {
   "cell_type": "code",
   "execution_count": 10,
   "metadata": {},
   "outputs": [],
   "source": [
    "MAX_SENTENCE_LENGTH = 200\n",
    "\n",
    "import numpy as np\n",
    "import torch\n",
    "from torch.utils.data import Dataset\n",
    "\n",
    "class NewsGroupDataset(Dataset):\n",
    "    \"\"\"\n",
    "    Class that represents a train/validation/test dataset that's readable for PyTorch\n",
    "    Note that this class inherits torch.utils.data.Dataset\n",
    "    \"\"\"\n",
    "    \n",
    "    def __init__(self, data_list, target_list):\n",
    "        \"\"\"\n",
    "        @param data_list: list of newsgroup tokens \n",
    "        @param target_list: list of newsgroup targets \n",
    "\n",
    "        \"\"\"\n",
    "        self.data_list = data_list\n",
    "        self.target_list = target_list\n",
    "        assert (len(self.data_list) == len(self.target_list))\n",
    "\n",
    "    def __len__(self):\n",
    "        return len(self.data_list)\n",
    "        \n",
    "    def __getitem__(self, key):\n",
    "        \"\"\"\n",
    "        Triggered when you call dataset[i]\n",
    "        \"\"\"\n",
    "        \n",
    "        token_idx = self.data_list[key][:MAX_SENTENCE_LENGTH]\n",
    "        label = self.target_list[key]\n",
    "        return [token_idx, len(token_idx), label]\n",
    "\n",
    "def newsgroup_collate_func(batch):\n",
    "    \"\"\"\n",
    "    Customized function for DataLoader that dynamically pads the batch so that all \n",
    "    data have the same length\n",
    "    \"\"\"\n",
    "    data_list = []\n",
    "    label_list = []\n",
    "    length_list = []\n",
    "    #print(\"collate batch: \", batch[0][0])\n",
    "    #batch[0][0] = batch[0][0][:MAX_SENTENCE_LENGTH]\n",
    "    for datum in batch:\n",
    "        label_list.append(datum[2])\n",
    "        length_list.append(datum[1])\n",
    "    # padding\n",
    "    for datum in batch:\n",
    "        padded_vec = np.pad(np.array(datum[0]), \n",
    "                                pad_width=((0,MAX_SENTENCE_LENGTH-datum[1])), \n",
    "                                mode=\"constant\", constant_values=0)\n",
    "        data_list.append(padded_vec)\n",
    "    return [torch.from_numpy(np.array(data_list)), torch.LongTensor(length_list), torch.LongTensor(label_list)]\n",
    "\n",
    "BATCH_SIZE = 32\n",
    "train_dataset = NewsGroupDataset(train_data_indices, train_targets)\n",
    "train_loader = torch.utils.data.DataLoader(dataset=train_dataset, \n",
    "                                           batch_size=BATCH_SIZE,\n",
    "                                           collate_fn=newsgroup_collate_func,\n",
    "                                           shuffle=True)\n",
    "\n",
    "val_dataset = NewsGroupDataset(val_data_indices, val_targets)\n",
    "val_loader = torch.utils.data.DataLoader(dataset=val_dataset, \n",
    "                                           batch_size=BATCH_SIZE,\n",
    "                                           collate_fn=newsgroup_collate_func,\n",
    "                                           shuffle=True)\n",
    "\n",
    "test_dataset = NewsGroupDataset(test_data_indices, test_targets)\n",
    "test_loader = torch.utils.data.DataLoader(dataset=test_dataset, \n",
    "                                           batch_size=BATCH_SIZE,\n",
    "                                           collate_fn=newsgroup_collate_func,\n",
    "                                           shuffle=False)"
   ]
  },
  {
   "cell_type": "code",
   "execution_count": 11,
   "metadata": {},
   "outputs": [],
   "source": [
    "# First import torch related libraries\n",
    "import torch\n",
    "import torch.nn as nn\n",
    "import torch.nn.functional as F\n",
    "\n",
    "class BagOfWords(nn.Module):\n",
    "    \"\"\"\n",
    "    BagOfWords classification model\n",
    "    \"\"\"\n",
    "    def __init__(self, vocab_size, emb_dim):\n",
    "        \"\"\"\n",
    "        @param vocab_size: size of the vocabulary. \n",
    "        @param emb_dim: size of the word embedding\n",
    "        \"\"\"\n",
    "        super(BagOfWords, self).__init__()\n",
    "        # pay attention to padding_idx \n",
    "        self.embed = nn.Embedding(vocab_size, emb_dim, padding_idx=0)\n",
    "        self.linear = nn.Linear(emb_dim,20)\n",
    "    \n",
    "    def forward(self, data, length):\n",
    "        \"\"\"\n",
    "        \n",
    "        @param data: matrix of size (batch_size, max_sentence_length). Each row in data represents a \n",
    "            review that is represented using n-gram index. Note that they are padded to have same length.\n",
    "        @param length: an int tensor of size (batch_size), which represents the non-trivial (excludes padding)\n",
    "            length of each sentences in the data.\n",
    "        \"\"\"\n",
    "        out = self.embed(data)\n",
    "        out = torch.sum(out, dim=1)\n",
    "        out /= length.view(length.size()[0],1).expand_as(out).float()\n",
    "     \n",
    "        # return logits\n",
    "        out = self.linear(out.float())\n",
    "        return out\n",
    "\n",
    "emb_dim = 100\n",
    "model = BagOfWords(len(id2token), emb_dim)"
   ]
  },
  {
   "cell_type": "code",
   "execution_count": 12,
   "metadata": {},
   "outputs": [
    {
     "name": "stdout",
     "output_type": "stream",
     "text": [
      "Epoch: [1/10], Step: [101/625], Validation Acc: 77.0\n",
      "Epoch: [1/10], Step: [201/625], Validation Acc: 83.72\n",
      "Epoch: [1/10], Step: [301/625], Validation Acc: 85.42\n",
      "Epoch: [1/10], Step: [401/625], Validation Acc: 85.84\n",
      "Epoch: [1/10], Step: [501/625], Validation Acc: 84.94\n",
      "Epoch: [1/10], Step: [601/625], Validation Acc: 85.96\n",
      "Epoch: [2/10], Step: [101/625], Validation Acc: 86.36\n",
      "Epoch: [2/10], Step: [201/625], Validation Acc: 86.34\n",
      "Epoch: [2/10], Step: [301/625], Validation Acc: 85.5\n",
      "Epoch: [2/10], Step: [401/625], Validation Acc: 86.24\n",
      "Epoch: [2/10], Step: [501/625], Validation Acc: 86.08\n",
      "Epoch: [2/10], Step: [601/625], Validation Acc: 86.0\n",
      "Epoch: [3/10], Step: [101/625], Validation Acc: 86.64\n",
      "Epoch: [3/10], Step: [201/625], Validation Acc: 85.84\n",
      "Epoch: [3/10], Step: [301/625], Validation Acc: 85.76\n",
      "Epoch: [3/10], Step: [401/625], Validation Acc: 85.56\n",
      "Epoch: [3/10], Step: [501/625], Validation Acc: 85.16\n",
      "Epoch: [3/10], Step: [601/625], Validation Acc: 85.48\n",
      "Epoch: [4/10], Step: [101/625], Validation Acc: 85.56\n",
      "Epoch: [4/10], Step: [201/625], Validation Acc: 85.16\n",
      "Epoch: [4/10], Step: [301/625], Validation Acc: 85.26\n",
      "Epoch: [4/10], Step: [401/625], Validation Acc: 84.72\n",
      "Epoch: [4/10], Step: [501/625], Validation Acc: 85.24\n",
      "Epoch: [4/10], Step: [601/625], Validation Acc: 84.84\n",
      "Epoch: [5/10], Step: [101/625], Validation Acc: 84.94\n",
      "Epoch: [5/10], Step: [201/625], Validation Acc: 85.28\n",
      "Epoch: [5/10], Step: [301/625], Validation Acc: 85.44\n",
      "Epoch: [5/10], Step: [401/625], Validation Acc: 85.56\n",
      "Epoch: [5/10], Step: [501/625], Validation Acc: 84.34\n",
      "Epoch: [5/10], Step: [601/625], Validation Acc: 84.56\n",
      "Epoch: [6/10], Step: [101/625], Validation Acc: 84.7\n",
      "Epoch: [6/10], Step: [201/625], Validation Acc: 84.66\n",
      "Epoch: [6/10], Step: [301/625], Validation Acc: 84.58\n",
      "Epoch: [6/10], Step: [401/625], Validation Acc: 84.24\n",
      "Epoch: [6/10], Step: [501/625], Validation Acc: 84.48\n",
      "Epoch: [6/10], Step: [601/625], Validation Acc: 84.7\n",
      "Epoch: [7/10], Step: [101/625], Validation Acc: 84.14\n",
      "Epoch: [7/10], Step: [201/625], Validation Acc: 84.26\n",
      "Epoch: [7/10], Step: [301/625], Validation Acc: 84.28\n",
      "Epoch: [7/10], Step: [401/625], Validation Acc: 83.46\n",
      "Epoch: [7/10], Step: [501/625], Validation Acc: 84.12\n",
      "Epoch: [7/10], Step: [601/625], Validation Acc: 83.7\n",
      "Epoch: [8/10], Step: [101/625], Validation Acc: 83.98\n",
      "Epoch: [8/10], Step: [201/625], Validation Acc: 83.9\n",
      "Epoch: [8/10], Step: [301/625], Validation Acc: 84.12\n",
      "Epoch: [8/10], Step: [401/625], Validation Acc: 83.94\n",
      "Epoch: [8/10], Step: [501/625], Validation Acc: 84.02\n",
      "Epoch: [8/10], Step: [601/625], Validation Acc: 84.2\n",
      "Epoch: [9/10], Step: [101/625], Validation Acc: 84.18\n",
      "Epoch: [9/10], Step: [201/625], Validation Acc: 83.5\n",
      "Epoch: [9/10], Step: [301/625], Validation Acc: 83.48\n",
      "Epoch: [9/10], Step: [401/625], Validation Acc: 83.92\n",
      "Epoch: [9/10], Step: [501/625], Validation Acc: 83.84\n",
      "Epoch: [9/10], Step: [601/625], Validation Acc: 83.42\n",
      "Epoch: [10/10], Step: [101/625], Validation Acc: 83.46\n",
      "Epoch: [10/10], Step: [201/625], Validation Acc: 83.46\n",
      "Epoch: [10/10], Step: [301/625], Validation Acc: 83.68\n",
      "Epoch: [10/10], Step: [401/625], Validation Acc: 83.66\n",
      "Epoch: [10/10], Step: [501/625], Validation Acc: 83.64\n",
      "Epoch: [10/10], Step: [601/625], Validation Acc: 83.86\n"
     ]
    }
   ],
   "source": [
    "learning_rate = 0.01\n",
    "num_epochs = 10 # number epoch to train\n",
    "\n",
    "# Criterion and Optimizer\n",
    "criterion = torch.nn.CrossEntropyLoss()  \n",
    "optimizer = torch.optim.Adam(model.parameters(), lr=learning_rate)\n",
    "\n",
    "# Function for testing the model\n",
    "def test_model(loader, model):\n",
    "    \"\"\"\n",
    "    Help function that tests the model's performance on a dataset\n",
    "    @param: loader - data loader for the dataset to test against\n",
    "    \"\"\"\n",
    "    correct = 0\n",
    "    total = 0\n",
    "    model.eval()\n",
    "    for data, lengths, labels in loader:\n",
    "        data_batch, length_batch, label_batch = data, lengths, labels\n",
    "        outputs = F.softmax(model(data_batch, length_batch), dim=1)\n",
    "        predicted = outputs.max(1, keepdim=True)[1]\n",
    "        \n",
    "        total += labels.size(0)\n",
    "        correct += predicted.eq(labels.view_as(predicted)).sum().item()\n",
    "    return (100 * correct / total)\n",
    "\n",
    "for epoch in range(num_epochs):\n",
    "    for i, (data, lengths, labels) in enumerate(train_loader):\n",
    "        model.train()\n",
    "        data_batch, length_batch, label_batch = data, lengths, labels\n",
    "        optimizer.zero_grad()\n",
    "        outputs = model(data_batch, length_batch)\n",
    "        loss = criterion(outputs, label_batch)\n",
    "        loss.backward()\n",
    "        optimizer.step()\n",
    "        # validate every 100 iterations\n",
    "        if i > 0 and i % 100 == 0:\n",
    "            # validate\n",
    "            val_acc = test_model(val_loader, model)\n",
    "            print('Epoch: [{}/{}], Step: [{}/{}], Validation Acc: {}'.format( \n",
    "                       epoch+1, num_epochs, i+1, len(train_loader), val_acc))\n"
   ]
  },
  {
   "cell_type": "code",
   "execution_count": 13,
   "metadata": {},
   "outputs": [
    {
     "name": "stdout",
     "output_type": "stream",
     "text": [
      "After training for 10 epochs\n",
      "Val Acc 83.58\n"
     ]
    }
   ],
   "source": [
    "print (\"After training for {} epochs\".format(num_epochs))\n",
    "print (\"Val Acc {}\".format(test_model(val_loader, model)))\n"
   ]
  },
  {
   "cell_type": "code",
   "execution_count": null,
   "metadata": {},
   "outputs": [],
   "source": []
  },
  {
   "cell_type": "code",
   "execution_count": null,
   "metadata": {},
   "outputs": [],
   "source": []
  }
 ],
 "metadata": {
  "kernelspec": {
   "display_name": "Python 3",
   "language": "python",
   "name": "python3"
  },
  "language_info": {
   "codemirror_mode": {
    "name": "ipython",
    "version": 3
   },
   "file_extension": ".py",
   "mimetype": "text/x-python",
   "name": "python",
   "nbconvert_exporter": "python",
   "pygments_lexer": "ipython3",
   "version": "3.6.5"
  }
 },
 "nbformat": 4,
 "nbformat_minor": 2
}
