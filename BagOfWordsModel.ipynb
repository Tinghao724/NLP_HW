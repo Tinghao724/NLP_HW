{
 "cells": [
  {
   "cell_type": "code",
   "execution_count": 1,
   "metadata": {},
   "outputs": [],
   "source": [
    "import pandas as pd\n",
    "import numpy as np\n",
    "import os\n",
    "import random"
   ]
  },
  {
   "cell_type": "code",
   "execution_count": 2,
   "metadata": {},
   "outputs": [],
   "source": [
    "import matplotlib.pyplot as plt\n",
    "%matplotlib inline"
   ]
  },
  {
   "cell_type": "code",
   "execution_count": 3,
   "metadata": {},
   "outputs": [],
   "source": [
    "import torch\n",
    "import numpy as np\n",
    "from collections import Counter\n",
    "import pickle as pkl\n",
    "\n",
    "\n",
    "import numpy as np\n",
    "import torch\n",
    "from torch.utils.data import Dataset\n",
    "\n",
    "import torch\n",
    "import torch.nn as nn\n",
    "import torch.nn.functional as F\n",
    "\n"
   ]
  },
  {
   "cell_type": "code",
   "execution_count": 4,
   "metadata": {},
   "outputs": [],
   "source": [
    "## Load the targets\n",
    "\n",
    "train_targets = pd.read_csv(\"train_targets.csv\").iloc[:,0].tolist()\n",
    "val_targets = pd.read_csv(\"val_targets.csv\").iloc[:,0].tolist()\n",
    "test_targets = pd.read_csv(\"test_targets.csv\").iloc[:,0].tolist()\n"
   ]
  },
  {
   "cell_type": "code",
   "execution_count": 5,
   "metadata": {},
   "outputs": [
    {
     "name": "stdout",
     "output_type": "stream",
     "text": [
      "Train dataset size is 20000\n",
      "Val dataset size is 5000\n",
      "Test dataset size is 25000\n",
      "Total number of tokens in train dataset is 4827321\n"
     ]
    }
   ],
   "source": [
    "\n",
    "# Then, load preprocessed train, val and test datasets\n",
    "train_data_tokens = pkl.load(open(\"train_data_tokens_1.p\", \"rb\"))\n",
    "all_train_tokens = pkl.load(open(\"all_train_tokens_1.p\", \"rb\"))\n",
    "\n",
    "val_data_tokens = pkl.load(open(\"val_data_tokens_1.p\", \"rb\"))\n",
    "test_data_tokens = pkl.load(open(\"test_data_tokens_1.p\", \"rb\"))\n",
    "\n",
    "# double checking\n",
    "print (\"Train dataset size is {}\".format(len(train_data_tokens)))\n",
    "print (\"Val dataset size is {}\".format(len(val_data_tokens)))\n",
    "print (\"Test dataset size is {}\".format(len(test_data_tokens)))\n",
    "\n",
    "print (\"Total number of tokens in train dataset is {}\".format(len(all_train_tokens)))"
   ]
  },
  {
   "cell_type": "code",
   "execution_count": 6,
   "metadata": {},
   "outputs": [],
   "source": [
    "\n",
    "max_vocab_size = 7000\n",
    "# save index 0 for unk and 1 for pad\n",
    "PAD_IDX = 0\n",
    "UNK_IDX = 1\n",
    "\n",
    "def build_vocab(all_tokens):\n",
    "    # Returns:\n",
    "    # id2token: list of tokens, where id2token[i] returns token that corresponds to token i\n",
    "    # token2id: dictionary where keys represent tokens and corresponding values represent indices\n",
    "    token_counter = Counter(all_tokens)\n",
    "    vocab, count = zip(*token_counter.most_common(max_vocab_size))\n",
    "    id2token = list(vocab)\n",
    "    token2id = dict(zip(vocab, range(2,2+len(vocab)))) \n",
    "    id2token = ['<pad>', '<unk>'] + id2token\n",
    "    token2id['<pad>'] = PAD_IDX \n",
    "    token2id['<unk>'] = UNK_IDX\n",
    "    return token2id, id2token\n",
    "\n",
    "token2id, id2token = build_vocab(all_train_tokens)"
   ]
  },
  {
   "cell_type": "code",
   "execution_count": 7,
   "metadata": {},
   "outputs": [
    {
     "name": "stdout",
     "output_type": "stream",
     "text": [
      "Token id 5425 ; token visions\n",
      "Token visions; token id 5425\n"
     ]
    }
   ],
   "source": [
    "random_token_id = random.randint(0, len(id2token)-1)\n",
    "random_token = id2token[random_token_id]\n",
    "\n",
    "print (\"Token id {} ; token {}\".format(random_token_id, id2token[random_token_id]))\n",
    "print (\"Token {}; token id {}\".format(random_token, token2id[random_token]))"
   ]
  },
  {
   "cell_type": "code",
   "execution_count": 8,
   "metadata": {},
   "outputs": [
    {
     "name": "stdout",
     "output_type": "stream",
     "text": [
      "Train dataset size is 20000\n",
      "Val dataset size is 5000\n",
      "Test dataset size is 25000\n"
     ]
    }
   ],
   "source": [
    "def token2index_dataset(tokens_data):\n",
    "    indices_data = []\n",
    "    for tokens in tokens_data:\n",
    "        index_list = [token2id[token] if token in token2id else UNK_IDX for token in tokens]\n",
    "        indices_data.append(index_list)\n",
    "    return indices_data\n",
    "\n",
    "train_data_indices = token2index_dataset(train_data_tokens)\n",
    "val_data_indices = token2index_dataset(val_data_tokens)\n",
    "test_data_indices = token2index_dataset(test_data_tokens)\n",
    "\n",
    "# double checking\n",
    "print (\"Train dataset size is {}\".format(len(train_data_indices)))\n",
    "print (\"Val dataset size is {}\".format(len(val_data_indices)))\n",
    "print (\"Test dataset size is {}\".format(len(test_data_indices)))"
   ]
  },
  {
   "cell_type": "code",
   "execution_count": 9,
   "metadata": {},
   "outputs": [],
   "source": [
    "MAX_SENTENCE_LENGTH = 200\n",
    "\n",
    "\n",
    "class NewsGroupDataset(Dataset):\n",
    "    \"\"\"\n",
    "    Class that represents a train/validation/test dataset that's readable for PyTorch\n",
    "    Note that this class inherits torch.utils.data.Dataset\n",
    "    \"\"\"\n",
    "    \n",
    "    def __init__(self, data_list, target_list):\n",
    "        \"\"\"\n",
    "        @param data_list: list of newsgroup tokens \n",
    "        @param target_list: list of newsgroup targets \n",
    "\n",
    "        \"\"\"\n",
    "        self.data_list = data_list\n",
    "        self.target_list = target_list\n",
    "        assert (len(self.data_list) == len(self.target_list))\n",
    "\n",
    "    def __len__(self):\n",
    "        return len(self.data_list)\n",
    "        \n",
    "    def __getitem__(self, key):\n",
    "        \"\"\"\n",
    "        Triggered when you call dataset[i]\n",
    "        \"\"\"\n",
    "        \n",
    "        token_idx = self.data_list[key][:MAX_SENTENCE_LENGTH]\n",
    "        label = self.target_list[key]\n",
    "        return [token_idx, len(token_idx), label]\n",
    "\n",
    "def newsgroup_collate_func(batch):\n",
    "    \"\"\"\n",
    "    Customized function for DataLoader that dynamically pads the batch so that all \n",
    "    data have the same length\n",
    "    \"\"\"\n",
    "    data_list = []\n",
    "    label_list = []\n",
    "    length_list = []\n",
    "    #print(\"collate batch: \", batch[0][0])\n",
    "    #batch[0][0] = batch[0][0][:MAX_SENTENCE_LENGTH]\n",
    "    for datum in batch:\n",
    "        label_list.append(datum[2])\n",
    "        length_list.append(datum[1])\n",
    "    # padding\n",
    "    for datum in batch:\n",
    "        padded_vec = np.pad(np.array(datum[0]), \n",
    "                                pad_width=((0,MAX_SENTENCE_LENGTH-datum[1])), \n",
    "                                mode=\"constant\", constant_values=0)\n",
    "        data_list.append(padded_vec)\n",
    "    return [torch.from_numpy(np.array(data_list)), torch.LongTensor(length_list), torch.LongTensor(label_list)]\n",
    "\n",
    "\n",
    "BATCH_SIZE = 85\n",
    "train_dataset = NewsGroupDataset(train_data_indices, train_targets)\n",
    "train_loader = torch.utils.data.DataLoader(dataset=train_dataset, \n",
    "                                           batch_size=BATCH_SIZE,\n",
    "                                           collate_fn=newsgroup_collate_func,\n",
    "                                           shuffle=True)\n",
    "\n",
    "val_dataset = NewsGroupDataset(val_data_indices, val_targets)\n",
    "val_loader = torch.utils.data.DataLoader(dataset=val_dataset, \n",
    "                                           batch_size=BATCH_SIZE,\n",
    "                                           collate_fn=newsgroup_collate_func,\n",
    "                                           shuffle=False)\n",
    "\n",
    "test_dataset = NewsGroupDataset(test_data_indices, test_targets)\n",
    "test_loader = torch.utils.data.DataLoader(dataset=test_dataset, \n",
    "                                           batch_size=BATCH_SIZE,\n",
    "                                           collate_fn=newsgroup_collate_func,\n",
    "                                           shuffle=False)\n",
    "\n"
   ]
  },
  {
   "cell_type": "code",
   "execution_count": 10,
   "metadata": {},
   "outputs": [],
   "source": [
    "# First import torch related libraries\n",
    "\n",
    "class BagOfWords(nn.Module):\n",
    "    \"\"\"\n",
    "    BagOfWords classification model\n",
    "    \"\"\"\n",
    "    def __init__(self, vocab_size, emb_dim):\n",
    "        \"\"\"\n",
    "        @param vocab_size: size of the vocabulary. \n",
    "        @param emb_dim: size of the word embedding\n",
    "        \"\"\"\n",
    "        super(BagOfWords, self).__init__()\n",
    "        # pay attention to padding_idx \n",
    "        self.embed = nn.Embedding(vocab_size, emb_dim, padding_idx=0)\n",
    "        self.linear = nn.Linear(emb_dim,2)\n",
    "    \n",
    "    def forward(self, data, length):\n",
    "        \"\"\"\n",
    "        \n",
    "        @param data: matrix of size (batch_size, max_sentence_length). Each row in data represents a \n",
    "            review that is represented using n-gram index. Note that they are padded to have same length.\n",
    "        @param length: an int tensor of size (batch_size), which represents the non-trivial (excludes padding)\n",
    "            length of each sentences in the data.\n",
    "        \"\"\"\n",
    "        out = self.embed(data)\n",
    "        out = torch.sum(out, dim=1)\n",
    "        out /= length.view(length.size()[0],1).expand_as(out).float()\n",
    "     \n",
    "        # return logits\n",
    "        out = self.linear(out.float())\n",
    "        return out\n",
    "\n",
    "emb_dim = 20\n",
    "model = BagOfWords(len(id2token), emb_dim)"
   ]
  },
  {
   "cell_type": "code",
   "execution_count": 16,
   "metadata": {},
   "outputs": [
    {
     "name": "stdout",
     "output_type": "stream",
     "text": [
      "Epoch: [1/10], Step: [101/236], Validation Acc: 85.98\n",
      "Epoch: [1/10], Step: [201/236], Validation Acc: 86.08\n",
      "Epoch: [2/10], Step: [101/236], Validation Acc: 86.5\n",
      "Epoch: [2/10], Step: [201/236], Validation Acc: 86.44\n",
      "Epoch: [3/10], Step: [101/236], Validation Acc: 86.68\n",
      "Epoch: [3/10], Step: [201/236], Validation Acc: 86.18\n",
      "Epoch: [4/10], Step: [101/236], Validation Acc: 86.28\n",
      "Epoch: [4/10], Step: [201/236], Validation Acc: 86.52\n",
      "Epoch: [5/10], Step: [101/236], Validation Acc: 86.3\n",
      "Epoch: [5/10], Step: [201/236], Validation Acc: 86.46\n",
      "Epoch: [6/10], Step: [101/236], Validation Acc: 86.5\n",
      "Epoch: [6/10], Step: [201/236], Validation Acc: 86.68\n",
      "Epoch: [7/10], Step: [101/236], Validation Acc: 86.54\n",
      "Epoch: [7/10], Step: [201/236], Validation Acc: 86.46\n",
      "Epoch: [8/10], Step: [101/236], Validation Acc: 86.46\n",
      "Epoch: [8/10], Step: [201/236], Validation Acc: 86.58\n",
      "Epoch: [9/10], Step: [101/236], Validation Acc: 86.52\n",
      "Epoch: [9/10], Step: [201/236], Validation Acc: 86.24\n",
      "Epoch: [10/10], Step: [101/236], Validation Acc: 86.3\n",
      "Epoch: [10/10], Step: [201/236], Validation Acc: 86.24\n"
     ]
    }
   ],
   "source": [
    "learning_rate = 0.002\n",
    "num_epochs = 10 # number epoch to train\n",
    "\n",
    "# Criterion and Optimizer\n",
    "criterion = torch.nn.CrossEntropyLoss()  \n",
    "optimizer = torch.optim.Adam(model.parameters(), lr=learning_rate)\n",
    "\n",
    "\n",
    "# Function for testing the model\n",
    "def test_model(loader, model):\n",
    "    \"\"\"\n",
    "    Help function that tests the model's performance on a dataset\n",
    "    @param: loader - data loader for the dataset to test against\n",
    "    \"\"\"\n",
    "    correct = 0\n",
    "    total = 0\n",
    "    model.eval()\n",
    "    for data, lengths, labels in loader:\n",
    "        data_batch, length_batch, label_batch = data, lengths, labels\n",
    "        outputs = F.softmax(model(data_batch, length_batch), dim=1)\n",
    "        predicted = outputs.max(1, keepdim=True)[1]\n",
    "        \n",
    "        total += labels.size(0)\n",
    "        correct += predicted.eq(labels.view_as(predicted)).sum().item()\n",
    "    return (100 * correct / total)\n",
    "\n",
    "accs=[]\n",
    "Losses=[]\n",
    "for epoch in range(num_epochs):\n",
    "    epoch_loss=[]\n",
    "    for i, (data, lengths, labels) in enumerate(train_loader):\n",
    "        model.train()\n",
    "        data_batch, length_batch, label_batch = data, lengths, labels\n",
    "        optimizer.zero_grad()\n",
    "        outputs = model(data_batch, length_batch)\n",
    "        loss = criterion(outputs, label_batch)\n",
    "        epoch_loss.append(loss)\n",
    "        loss.backward()\n",
    "        optimizer.step()\n",
    "        # validate every 100 iterations\n",
    "        if i > 0 and i % 100 == 0:\n",
    "            # validate\n",
    "            val_acc = test_model(val_loader, model)\n",
    "            \n",
    "            print('Epoch: [{}/{}], Step: [{}/{}], Validation Acc: {}'.format( \n",
    "                       epoch+1, num_epochs, i+1, len(train_loader), val_acc))\n",
    "    \n",
    "    Losses.append(sum(epoch_loss))\n",
    "    accs.append(val_acc)"
   ]
  },
  {
   "cell_type": "code",
   "execution_count": 17,
   "metadata": {},
   "outputs": [
    {
     "name": "stdout",
     "output_type": "stream",
     "text": [
      "After training for 10 epochs\n",
      "Val Acc 86.12\n",
      "Test Acc 93.096\n"
     ]
    }
   ],
   "source": [
    "print (\"After training for {} epochs\".format(num_epochs))\n",
    "print (\"Val Acc {}\".format(test_model(val_loader, model)))\n",
    "print (\"Test Acc {}\".format(test_model(test_loader, model)))"
   ]
  },
  {
   "cell_type": "code",
   "execution_count": 18,
   "metadata": {},
   "outputs": [
    {
     "data": {
      "image/png": "[encoded data removed]",
      "text/plain": [
       "<Figure size 432x288 with 1 Axes>"
      ]
     },
     "metadata": {},
     "output_type": "display_data"
    }
   ],
   "source": [
    "# Plot the Validation Accuracy of Learning curves \n",
    "fig, ax = plt.subplots()\n",
    "ax.plot(accs) \n",
    "ax.set_xlabel('Epoches (Steps)')\n",
    "ax.set_ylabel('Accuracy')\n",
    "ax.set_title('Accuracy vs. Epoches (Steps) ', loc='center', fontsize=14, fontweight = \"bold\") \n",
    "fig.savefig(\"Learning_curves.png\", bbox_inches = \"tight\", dip = 1200)"
   ]
  },
  {
   "cell_type": "code",
   "execution_count": 19,
   "metadata": {},
   "outputs": [
    {
     "data": {
      "image/png": "[encoded data removed]",
      "text/plain": [
       "<Figure size 432x288 with 1 Axes>"
      ]
     },
     "metadata": {},
     "output_type": "display_data"
    }
   ],
   "source": [
    "\n",
    "# Plot the Training Loss of Learning curves \n",
    "fig, ax = plt.subplots()\n",
    "ax.plot(Losses) \n",
    "ax.set_xlabel('Epoches (Steps)')\n",
    "ax.set_ylabel('Loss')\n",
    "ax.set_title('Loss vs. Epoches (Steps)', loc='center', fontsize=14, fontweight = \"bold\") \n",
    "fig.savefig(\"Learning_curves_Training_Loss.png\", bbox_inches = \"tight\", dip = 1200)"
   ]
  },
  {
   "cell_type": "markdown",
   "metadata": {},
   "source": [
    "---\n",
    "### Output the correct and incorrect predictions "
   ]
  },
  {
   "cell_type": "code",
   "execution_count": 12,
   "metadata": {},
   "outputs": [],
   "source": [
    "# Not very sophisticated codes and only for one time use.\n",
    "correct = 0\n",
    "incorrect = 0\n",
    "total = 0\n",
    "model.eval()\n",
    "for data, lengths, labels in val_loader:\n",
    "    \n",
    "    data_batch, length_batch, label_batch = data, lengths, labels\n",
    "    outputs = F.softmax(model(data_batch, length_batch), dim=1)\n",
    "    predicted = outputs.max(1, keepdim=True)[1]\n",
    "        \n",
    "    total += labels.size(0)\n",
    "    correct += predicted.eq(labels.view_as(predicted)).sum().item()\n",
    "    \n",
    "    if total >=1:\n",
    "        break\n",
    "        "
   ]
  },
  {
   "cell_type": "code",
   "execution_count": 13,
   "metadata": {},
   "outputs": [],
   "source": [
    "correct_index = np.argwhere((predicted.numpy()-labels.numpy().reshape(85,1))==0)[0:3,0]\n",
    "incorrect_index = np.argwhere((predicted.numpy()-labels.numpy().reshape(85,1))!=0)[0:3,0]\n",
    "    "
   ]
  },
  {
   "cell_type": "code",
   "execution_count": 21,
   "metadata": {},
   "outputs": [
    {
     "name": "stdout",
     "output_type": "stream",
     "text": [
      "the corrected results\n",
      "Predicted Label [1] and actual label 1\n",
      "\n",
      "\n",
      "this is a good example a film that in spite of the low rating is more than worth watching the story is engaging and it does n't take long before the chemistry between nicole kidman and ben chaplin grabs your attention the acting is first class and the characters are represented well sometimes it feels like the director could n't decide himself between drama and romantic comedy ben chiller 's portrayal of the law abiding and shy englishman with porn s.m. magazines hidden in the bedroom creates plenty of moments for laughs as does the look in nicole kidman 's eyes when she is offering john his first taste of intimacy in a long time ... other times the actors and especially nicole kidman give this comedy quite expertly a dramatic slant\n",
      "\n",
      "\n",
      "Predicted Label [0] and actual label 0\n",
      "\n",
      "\n",
      "this movie is bad it 's basically an overdone copy of michael jackson 's thriller video only worse the special effects consist of lots of glow in the dark paint freaky slapstick fastmoving camera shots and lots of growling i think the dog was the best actor in the whole movie\n",
      "\n",
      "\n",
      "Predicted Label [0] and actual label 0\n",
      "\n",
      "\n",
      "this movie is one of the worst movies i have ever seen there is absolutely no storyline the gags are only for retards and there is absolutely nothing else that would make this movie worth watching in the whole movie fredi oh my god what a funny name ha ha does n't ask himself once how he came from a plane to middle earth there are plenty of stupid and totally unfunny characters whose names should sound funny e.g. gandalf is called almghandi sam is called pupsi ... and so on i did n't even smile once during the whole movie the gags seem like they were made by people whose iq is negative if you laugh when someone 's coat is trapped in the door this happens about 5 times then this movie is perhaps for you another funny scene they try to guess the code word for a closed door do n't ask why- do n't ever ask why in this movie and the code word is ha ha dung so if you laughed at this examples you might like this movie for everybody else go to youtube and watch lord of the weed it 's a lot lot more fun\n",
      "\n",
      "\n"
     ]
    }
   ],
   "source": [
    "print(\"the corrected results\")\n",
    "for i in correct_index:\n",
    "    print(\"Predicted Label {} and actual label {}\".format(predicted.numpy()[i],labels.numpy()[i]))\n",
    "    print (\"\\n\")\n",
    "    print (' '.join(val_data_tokens[i]))\n",
    "    print (\"\\n\")"
   ]
  },
  {
   "cell_type": "code",
   "execution_count": 20,
   "metadata": {},
   "outputs": [
    {
     "name": "stdout",
     "output_type": "stream",
     "text": [
      "the incorrected results\n",
      "Predicted Label [1] and actual label 0\n",
      "first before reading further you must understand that i 'm not neo nazi i 'm just trying to understand correctly hitler to be sure nobody like him take power again.<br /><br />i've seen this series and found it awful i mean ok it 's interesting to look but is it real i searched for answers and found one absolutely not first hitler was n't angry all his life the series shows an angry hitler even when he is a child second hitler never wanted to abuse his daughter in fact it is highly probable that hitler in reality was gay and fought all his life to choke this secret third people will hate me but it 's true hitler was charming how do you think he managed to get to power if he was so hateful and ugly because he was charming that 's a common point i found in the interviews of people who live near or far of him of course not jews).<br /><br />this series was awful because if you think that hitler was just an angry bastard ugly and of course not charming at all you 're wrong if you think that you will let people like him take power in countries and you do n't want that if you really understand how hitler managed to get into power and stop thinking he was just awful you 'll be able to find dangerous politicians like him of course remember he was elected and stop theme before it 's too late.<br /><br />life is important to protect this series is just awful to show us the truth if we continue to see hitler like that another one will take place exactly as the first did\n",
      "\n",
      "\n",
      "Predicted Label [0] and actual label 1\n",
      "another small piece of the vast picture puzzle of the holocaust is turned face up in this docudrama about the rosenstrasse protest in berlin an event i had not known of that began in late february 1943 the details are given in an addendum that follows this review.<br /><br />the film narrative sets the story of this protest within another contemporary story that begins in new york city in the present here a well off non observant jewish woman whose husband has just died shocks her children and others by insisting on an extremely orthodox mourning ritual she goes even further demanding that her daughter 's non jewish fiancé leave the house.<br /><br />the distressed daughter hannah maria schrader then learns for the first time from an older cousin that during wwii in berlin her mother then 8 years old had been taken in and protected by an aryan woman hannah drops everything goes to berlin and finds this woman lena fischer now 90 hannah easily persuades the woman to tell her story it all seems rather too pat.<br /><br />the film thereafter improves focusing through long flashbacks primarily on the events of 1943 that surrounded the protest in which the fictitious central character is the same mrs. fischer at 33 played magnificently by katja riemann a baroness and accomplished pianist who is married to fabian martin feifel a jewish concert violinist one of the men detained at the rosenstrasse site.<br /><br />the narrative does briefly weave back to the present from time to time and also ends in new york city once again while scenes in the present are color saturated the 1943 scenes are washed out strong on blue gray tones.<br /><br />the quality of acting is generally quite good what we might expect given the deep reservoir of talent in germany and the direction of margarethe von trotta new german cinema 's most prominent female filmmaker herself a former actress.<br /><br />the story of the protest is told simply only one feature is lacking that would have helped still text notes at the end indicating the eventual outcome for those people taken into custody at rosenstrasse an outcome that was as the addendum below makes clear incredibly positive.<br /><br />\"rosenstrasse has not fared well in the opinions of most film critics overly long needlessly layered purveyor of gender stereotypes manipulative with music so go the usual raps it is too long but i found in this film an austere powerful spontaneous and entirely convincing voice of protest from the women who kept the vigil outside the place on rosenstrasse where their jewish relatives and others were detained i found nothing flashy contemporary or manipulative in this depiction.<br /><br />the very absence of extreme violence no one is shot or otherwise physically brutalized intensified my tension which increased incrementally as the film progressed you keep waiting for some vicious attack to begin any minute the somberness of the film stayed with me afterward i awoke often later in the night i saw the film my mind filled with bleak melancholic chaotic images and feelings conjured by the film for me that happens rarely in german and english my rating 8/10 b+ seen on 05/31/05 if you 'd like to read more of my reviews send me a message for directions to my websites.<br /><br />add the rosenstrasse protest swept up from their forced labor jobs in what was meant to be the final roundup in the national capital 1700 to 2000 jews mostly men married to non jewish women were herded into rosenstrasse 2 4 a welfare office for the jewish community in central berlin.<br /><br />because these jews had german relatives many of them highly connected adolf eichmann hoped that segregating them from other prisoners would convince family members that their loved ones were being sent to labor camps rather than to more ominous destinations in occupied poland.<br /><br />normally those arrested remained in custody for only two days before being loaded onto trains bound for the east but before deportation of prisoners could occur in this case wives and other relatives got wind of what was happening and appeared at the rosenstrasse address first in ones and twos and then in ever growing numbers.<br /><br />perhaps as many as six thousand participated in the protest although not all at the same time women demanded back their husbands day after day for a week unarmed unorganized and leaderless they faced down the most brutal forces at the disposal of the third reich.<br /><br />joseph goebbels the gauleiter governor or district leader of berlin anxious to have that city racially cleansed was also in charge of the nation 's public morale on both counts he was worried about the possible repercussions of the women 's actions rather than inviting more open dissent by shooting the women down in the streets and fearful of jeopardizing the secrecy of the final solution goebbels with hitler 's concurrence released the rosenstrasse prisoners and even ordered the return of twenty five of them who already had been sent to auschwitz br /><br />to both hitler and goebbels the decision was a mere postponement of the inevitable but they were mistaken almost all of those released from rosenstrasse survived the war the women won an astonishing victory over the forces of destruction adapted from an article posted at the university of south florida website a teacher 's guide to the holocaust\n",
      "\n",
      "\n",
      "Predicted Label [0] and actual label 1\n",
      "i was forced to see this because a i have an 11 year old girl and b we had shown her the bonita granville nacy drew movies from the 1930s which she thoroughly enjoyed personally i did n't think it was as humorous as the 1930s flicks but on the other hand it was n't the nauseating piece of intelligence insulting fluff i feared it would be it was an inoffensive mildly entertaining movie although i 'm pleased that they did n't try to upgrade nancy to 21st century hipness veronica mars holds the title as the modern nancy drew i do think that they made her a little too bland that they did n't do enough to develop nancy drew the movie could have been titled jane doe girl detective i have to blame the script i think each actor did a good job with what they had to work with i liked emma roberts in this role but they gave her a made for tv not theatrical release script ...\n",
      "\n",
      "\n"
     ]
    }
   ],
   "source": [
    "print(\"the incorrected results\")\n",
    "for i in incorrect_index:\n",
    "    print(\"Predicted Label {} and actual label {}\".format(predicted.numpy()[i],labels.numpy()[i]))\n",
    "    print (\"\\n\")\n",
    "    print (' '.join(val_data_tokens[i]))\n",
    "    print (\"\\n\")"
   ]
  },
  {
   "cell_type": "code",
   "execution_count": null,
   "metadata": {},
   "outputs": [],
   "source": []
  }
 ],
 "metadata": {
  "kernelspec": {
   "display_name": "Python 3",
   "language": "python",
   "name": "python3"
  },
  "language_info": {
   "codemirror_mode": {
    "name": "ipython",
    "version": 3
   },
   "file_extension": ".py",
   "mimetype": "text/x-python",
   "name": "python",
   "nbconvert_exporter": "python",
   "pygments_lexer": "ipython3",
   "version": "3.5.5"
  }
 },
 "nbformat": 4,
 "nbformat_minor": 2
}
